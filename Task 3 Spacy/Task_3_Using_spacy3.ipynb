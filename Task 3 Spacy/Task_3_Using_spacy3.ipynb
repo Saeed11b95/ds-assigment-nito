{
  "nbformat": 4,
  "nbformat_minor": 0,
  "metadata": {
    "colab": {
      "name": "Task_3_NLP.ipynb",
      "provenance": [],
      "collapsed_sections": []
    },
    "kernelspec": {
      "name": "python3",
      "display_name": "Python 3"
    },
    "language_info": {
      "name": "python"
    },
    "accelerator": "GPU",
    "gpuClass": "standard"
  },
  "cells": [
    {
      "cell_type": "markdown",
      "source": [
        "# Named Entity Recognition using spacy's en_core_web_sm model"
      ],
      "metadata": {
        "id": "cUx6b69QL-9D"
      }
    },
    {
      "cell_type": "markdown",
      "source": [
        "#### Defining paths and importing packages"
      ],
      "metadata": {
        "id": "qd6DofRGMIpC"
      }
    },
    {
      "cell_type": "code",
      "execution_count": 1,
      "metadata": {
        "id": "vw5PKkgtwC1B"
      },
      "outputs": [],
      "source": [
        "import pandas as pd\n",
        "data_directory_train = \"/content/restauranttrain.txt\"\n",
        "data_directory_test = \"/content/restauranttest.txt\""
      ]
    },
    {
      "cell_type": "markdown",
      "source": [
        "#### Reading data from files"
      ],
      "metadata": {
        "id": "Ea9NsNyyMMt4"
      }
    },
    {
      "cell_type": "code",
      "source": [
        "def read_lines_from_data(file):\n",
        "  with open(file, \"r\") as f:\n",
        "    lines = f.readlines()\n",
        "  return lines"
      ],
      "metadata": {
        "id": "WrzrH9Lp2w1r"
      },
      "execution_count": 2,
      "outputs": []
    },
    {
      "cell_type": "code",
      "source": [
        "train_data_raw = read_lines_from_data(data_directory_train)\n",
        "test_data_raw = read_lines_from_data(data_directory_test)"
      ],
      "metadata": {
        "id": "XLBTmJR64qRL"
      },
      "execution_count": 3,
      "outputs": []
    },
    {
      "cell_type": "markdown",
      "source": [
        "#### Preprocessing data to structure into Pandas DataFrame"
      ],
      "metadata": {
        "id": "oxY3aLbTMR11"
      }
    },
    {
      "cell_type": "code",
      "source": [
        "def preprocessing_data(filename):\n",
        "  lines = read_lines_from_data(filename)\n",
        "  list_of_dict = []\n",
        "  i = 1\n",
        "  for line in lines:\n",
        "    if line == \"\\n\":\n",
        "      i+=1\n",
        "    else:\n",
        "      dict_for_lines = {}\n",
        "      split_line = line.split(\"\\t\")\n",
        "      dict_for_lines[\"Sentence #\"] = f\"Sentence {i}\"\n",
        "      dict_for_lines[\"Word\"] = split_line[1].strip(\"\\n\")\n",
        "      dict_for_lines[\"Tag\"] =split_line[0]\n",
        "      list_of_dict.append(dict_for_lines)\n",
        "  return list_of_dict"
      ],
      "metadata": {
        "id": "OcjKwYF8AtE8"
      },
      "execution_count": 4,
      "outputs": []
    },
    {
      "cell_type": "code",
      "source": [
        "list_dic_train = preprocessing_data(data_directory_train)\n",
        "list_dic_test = preprocessing_data(data_directory_test)"
      ],
      "metadata": {
        "id": "f_EwY5BBFI-n"
      },
      "execution_count": 5,
      "outputs": []
    },
    {
      "cell_type": "code",
      "source": [
        "df_train = pd.DataFrame(list_dic_train)\n",
        "df_test = pd.DataFrame(list_dic_test)"
      ],
      "metadata": {
        "id": "i8ru8xCNFjCD"
      },
      "execution_count": 6,
      "outputs": []
    },
    {
      "cell_type": "code",
      "source": [
        "df_train[:15]"
      ],
      "metadata": {
        "colab": {
          "base_uri": "https://localhost:8080/",
          "height": 520
        },
        "id": "M2BuuZnlFv_C",
        "outputId": "151d2bb7-bf95-4d62-9e88-82b424117def"
      },
      "execution_count": 7,
      "outputs": [
        {
          "output_type": "execute_result",
          "data": {
            "text/plain": [
              "    Sentence #         Word                Tag\n",
              "0   Sentence 1            2           B-Rating\n",
              "1   Sentence 1         star           I-Rating\n",
              "2   Sentence 1  restaurants                  O\n",
              "3   Sentence 1         with                  O\n",
              "4   Sentence 1       inside          B-Amenity\n",
              "5   Sentence 1       dining          I-Amenity\n",
              "6   Sentence 2           34                  O\n",
              "7   Sentence 3            5           B-Rating\n",
              "8   Sentence 3         star           I-Rating\n",
              "9   Sentence 3   resturants                  O\n",
              "10  Sentence 3           in         B-Location\n",
              "11  Sentence 3           my         I-Location\n",
              "12  Sentence 3         town         I-Location\n",
              "13  Sentence 4           98                  O\n",
              "14  Sentence 4         hong  B-Restaurant_Name"
            ],
            "text/html": [
              "\n",
              "  <div id=\"df-b301a7c1-55a4-4001-a8ac-d88ac7f0dde7\">\n",
              "    <div class=\"colab-df-container\">\n",
              "      <div>\n",
              "<style scoped>\n",
              "    .dataframe tbody tr th:only-of-type {\n",
              "        vertical-align: middle;\n",
              "    }\n",
              "\n",
              "    .dataframe tbody tr th {\n",
              "        vertical-align: top;\n",
              "    }\n",
              "\n",
              "    .dataframe thead th {\n",
              "        text-align: right;\n",
              "    }\n",
              "</style>\n",
              "<table border=\"1\" class=\"dataframe\">\n",
              "  <thead>\n",
              "    <tr style=\"text-align: right;\">\n",
              "      <th></th>\n",
              "      <th>Sentence #</th>\n",
              "      <th>Word</th>\n",
              "      <th>Tag</th>\n",
              "    </tr>\n",
              "  </thead>\n",
              "  <tbody>\n",
              "    <tr>\n",
              "      <th>0</th>\n",
              "      <td>Sentence 1</td>\n",
              "      <td>2</td>\n",
              "      <td>B-Rating</td>\n",
              "    </tr>\n",
              "    <tr>\n",
              "      <th>1</th>\n",
              "      <td>Sentence 1</td>\n",
              "      <td>star</td>\n",
              "      <td>I-Rating</td>\n",
              "    </tr>\n",
              "    <tr>\n",
              "      <th>2</th>\n",
              "      <td>Sentence 1</td>\n",
              "      <td>restaurants</td>\n",
              "      <td>O</td>\n",
              "    </tr>\n",
              "    <tr>\n",
              "      <th>3</th>\n",
              "      <td>Sentence 1</td>\n",
              "      <td>with</td>\n",
              "      <td>O</td>\n",
              "    </tr>\n",
              "    <tr>\n",
              "      <th>4</th>\n",
              "      <td>Sentence 1</td>\n",
              "      <td>inside</td>\n",
              "      <td>B-Amenity</td>\n",
              "    </tr>\n",
              "    <tr>\n",
              "      <th>5</th>\n",
              "      <td>Sentence 1</td>\n",
              "      <td>dining</td>\n",
              "      <td>I-Amenity</td>\n",
              "    </tr>\n",
              "    <tr>\n",
              "      <th>6</th>\n",
              "      <td>Sentence 2</td>\n",
              "      <td>34</td>\n",
              "      <td>O</td>\n",
              "    </tr>\n",
              "    <tr>\n",
              "      <th>7</th>\n",
              "      <td>Sentence 3</td>\n",
              "      <td>5</td>\n",
              "      <td>B-Rating</td>\n",
              "    </tr>\n",
              "    <tr>\n",
              "      <th>8</th>\n",
              "      <td>Sentence 3</td>\n",
              "      <td>star</td>\n",
              "      <td>I-Rating</td>\n",
              "    </tr>\n",
              "    <tr>\n",
              "      <th>9</th>\n",
              "      <td>Sentence 3</td>\n",
              "      <td>resturants</td>\n",
              "      <td>O</td>\n",
              "    </tr>\n",
              "    <tr>\n",
              "      <th>10</th>\n",
              "      <td>Sentence 3</td>\n",
              "      <td>in</td>\n",
              "      <td>B-Location</td>\n",
              "    </tr>\n",
              "    <tr>\n",
              "      <th>11</th>\n",
              "      <td>Sentence 3</td>\n",
              "      <td>my</td>\n",
              "      <td>I-Location</td>\n",
              "    </tr>\n",
              "    <tr>\n",
              "      <th>12</th>\n",
              "      <td>Sentence 3</td>\n",
              "      <td>town</td>\n",
              "      <td>I-Location</td>\n",
              "    </tr>\n",
              "    <tr>\n",
              "      <th>13</th>\n",
              "      <td>Sentence 4</td>\n",
              "      <td>98</td>\n",
              "      <td>O</td>\n",
              "    </tr>\n",
              "    <tr>\n",
              "      <th>14</th>\n",
              "      <td>Sentence 4</td>\n",
              "      <td>hong</td>\n",
              "      <td>B-Restaurant_Name</td>\n",
              "    </tr>\n",
              "  </tbody>\n",
              "</table>\n",
              "</div>\n",
              "      <button class=\"colab-df-convert\" onclick=\"convertToInteractive('df-b301a7c1-55a4-4001-a8ac-d88ac7f0dde7')\"\n",
              "              title=\"Convert this dataframe to an interactive table.\"\n",
              "              style=\"display:none;\">\n",
              "        \n",
              "  <svg xmlns=\"http://www.w3.org/2000/svg\" height=\"24px\"viewBox=\"0 0 24 24\"\n",
              "       width=\"24px\">\n",
              "    <path d=\"M0 0h24v24H0V0z\" fill=\"none\"/>\n",
              "    <path d=\"M18.56 5.44l.94 2.06.94-2.06 2.06-.94-2.06-.94-.94-2.06-.94 2.06-2.06.94zm-11 1L8.5 8.5l.94-2.06 2.06-.94-2.06-.94L8.5 2.5l-.94 2.06-2.06.94zm10 10l.94 2.06.94-2.06 2.06-.94-2.06-.94-.94-2.06-.94 2.06-2.06.94z\"/><path d=\"M17.41 7.96l-1.37-1.37c-.4-.4-.92-.59-1.43-.59-.52 0-1.04.2-1.43.59L10.3 9.45l-7.72 7.72c-.78.78-.78 2.05 0 2.83L4 21.41c.39.39.9.59 1.41.59.51 0 1.02-.2 1.41-.59l7.78-7.78 2.81-2.81c.8-.78.8-2.07 0-2.86zM5.41 20L4 18.59l7.72-7.72 1.47 1.35L5.41 20z\"/>\n",
              "  </svg>\n",
              "      </button>\n",
              "      \n",
              "  <style>\n",
              "    .colab-df-container {\n",
              "      display:flex;\n",
              "      flex-wrap:wrap;\n",
              "      gap: 12px;\n",
              "    }\n",
              "\n",
              "    .colab-df-convert {\n",
              "      background-color: #E8F0FE;\n",
              "      border: none;\n",
              "      border-radius: 50%;\n",
              "      cursor: pointer;\n",
              "      display: none;\n",
              "      fill: #1967D2;\n",
              "      height: 32px;\n",
              "      padding: 0 0 0 0;\n",
              "      width: 32px;\n",
              "    }\n",
              "\n",
              "    .colab-df-convert:hover {\n",
              "      background-color: #E2EBFA;\n",
              "      box-shadow: 0px 1px 2px rgba(60, 64, 67, 0.3), 0px 1px 3px 1px rgba(60, 64, 67, 0.15);\n",
              "      fill: #174EA6;\n",
              "    }\n",
              "\n",
              "    [theme=dark] .colab-df-convert {\n",
              "      background-color: #3B4455;\n",
              "      fill: #D2E3FC;\n",
              "    }\n",
              "\n",
              "    [theme=dark] .colab-df-convert:hover {\n",
              "      background-color: #434B5C;\n",
              "      box-shadow: 0px 1px 3px 1px rgba(0, 0, 0, 0.15);\n",
              "      filter: drop-shadow(0px 1px 2px rgba(0, 0, 0, 0.3));\n",
              "      fill: #FFFFFF;\n",
              "    }\n",
              "  </style>\n",
              "\n",
              "      <script>\n",
              "        const buttonEl =\n",
              "          document.querySelector('#df-b301a7c1-55a4-4001-a8ac-d88ac7f0dde7 button.colab-df-convert');\n",
              "        buttonEl.style.display =\n",
              "          google.colab.kernel.accessAllowed ? 'block' : 'none';\n",
              "\n",
              "        async function convertToInteractive(key) {\n",
              "          const element = document.querySelector('#df-b301a7c1-55a4-4001-a8ac-d88ac7f0dde7');\n",
              "          const dataTable =\n",
              "            await google.colab.kernel.invokeFunction('convertToInteractive',\n",
              "                                                     [key], {});\n",
              "          if (!dataTable) return;\n",
              "\n",
              "          const docLinkHtml = 'Like what you see? Visit the ' +\n",
              "            '<a target=\"_blank\" href=https://colab.research.google.com/notebooks/data_table.ipynb>data table notebook</a>'\n",
              "            + ' to learn more about interactive tables.';\n",
              "          element.innerHTML = '';\n",
              "          dataTable['output_type'] = 'display_data';\n",
              "          await google.colab.output.renderOutput(dataTable, element);\n",
              "          const docLink = document.createElement('div');\n",
              "          docLink.innerHTML = docLinkHtml;\n",
              "          element.appendChild(docLink);\n",
              "        }\n",
              "      </script>\n",
              "    </div>\n",
              "  </div>\n",
              "  "
            ]
          },
          "metadata": {},
          "execution_count": 7
        }
      ]
    },
    {
      "cell_type": "markdown",
      "source": [
        "#### Converting data into Spacy's input format"
      ],
      "metadata": {
        "id": "QrGvv8DAMjzY"
      }
    },
    {
      "cell_type": "code",
      "source": [
        "def data_to_spacy_input_format(data_input):\n",
        "  data = []\n",
        "  words = []\n",
        "  sentence = ''\n",
        "  current_sentence = 'Sentence 1'\n",
        "  entities = []\n",
        "  for index, row in data_input.iterrows():\n",
        "    if current_sentence != row[0]:\n",
        "      if len(entities) > 0:\n",
        "        data.append((' '.join(words), { \"entities\": entities }))\n",
        "      sentence = ''\n",
        "      current_sentence = row[0]\n",
        "      words = []\n",
        "      entities = []\n",
        "    if row['Tag'] != 'O':\n",
        "      start_index = len(sentence) + len(words)\n",
        "      end_index = start_index + len(row['Word'])\n",
        "      entities.append((start_index, end_index, row['Tag']))\n",
        "    sentence += row['Word']\n",
        "    words.append(row['Word'])\n",
        "\n",
        "  if len(entities) > 0:\n",
        "    data.append((' '.join(words), { \"entities\": entities }))\n",
        "  return data\n"
      ],
      "metadata": {
        "id": "SPDMvKXR28NX"
      },
      "execution_count": 8,
      "outputs": []
    },
    {
      "cell_type": "code",
      "source": [
        "train_data = data_to_spacy_input_format(df_train)"
      ],
      "metadata": {
        "id": "KXx5c11Y294P"
      },
      "execution_count": 9,
      "outputs": []
    },
    {
      "cell_type": "code",
      "source": [
        "test_data = data_to_spacy_input_format(df_test)"
      ],
      "metadata": {
        "id": "cwPFymko93Lo"
      },
      "execution_count": 10,
      "outputs": []
    },
    {
      "cell_type": "code",
      "source": [
        "train_data[:15]"
      ],
      "metadata": {
        "colab": {
          "base_uri": "https://localhost:8080/"
        },
        "id": "0VMSykpyMcfq",
        "outputId": "23bfb72e-9d6d-4996-b033-1f64c5b83c6f"
      },
      "execution_count": 24,
      "outputs": [
        {
          "output_type": "execute_result",
          "data": {
            "text/plain": [
              "[('2 star restaurants with inside dining',\n",
              "  {'entities': [(0, 1, 'B-Rating'),\n",
              "    (2, 6, 'I-Rating'),\n",
              "    (24, 30, 'B-Amenity'),\n",
              "    (31, 37, 'I-Amenity')]}),\n",
              " ('5 star resturants in my town',\n",
              "  {'entities': [(0, 1, 'B-Rating'),\n",
              "    (2, 6, 'I-Rating'),\n",
              "    (18, 20, 'B-Location'),\n",
              "    (21, 23, 'I-Location'),\n",
              "    (24, 28, 'I-Location')]}),\n",
              " ('98 hong kong restaurant reasonable prices',\n",
              "  {'entities': [(3, 7, 'B-Restaurant_Name'),\n",
              "    (8, 12, 'I-Restaurant_Name'),\n",
              "    (24, 34, 'B-Price')]}),\n",
              " ('a great lunch spot but open till 2 a m passims kitchen',\n",
              "  {'entities': [(23, 27, 'B-Hours'),\n",
              "    (28, 32, 'I-Hours'),\n",
              "    (33, 34, 'I-Hours'),\n",
              "    (35, 36, 'I-Hours'),\n",
              "    (37, 38, 'I-Hours'),\n",
              "    (39, 46, 'B-Restaurant_Name'),\n",
              "    (47, 54, 'I-Restaurant_Name')]}),\n",
              " ('a place that serves soft serve ice cream',\n",
              "  {'entities': [(20, 24, 'B-Dish'),\n",
              "    (25, 30, 'I-Dish'),\n",
              "    (31, 34, 'I-Dish'),\n",
              "    (35, 40, 'I-Dish')]}),\n",
              " ('a restaurant that is good for groups',\n",
              "  {'entities': [(21, 25, 'B-Rating'),\n",
              "    (26, 29, 'B-Amenity'),\n",
              "    (30, 36, 'I-Amenity')]}),\n",
              " ('a salad would make my day', {'entities': [(2, 7, 'B-Dish')]}),\n",
              " ('a smoothie would hit the spot', {'entities': [(2, 10, 'B-Cuisine')]}),\n",
              " ('a steak would be nice', {'entities': [(2, 7, 'B-Dish')]}),\n",
              " ('a sub place near independence boulevard',\n",
              "  {'entities': [(2, 5, 'B-Dish'),\n",
              "    (12, 16, 'B-Location'),\n",
              "    (17, 29, 'I-Location'),\n",
              "    (30, 39, 'I-Location')]}),\n",
              " ('about how much is a midpriced bottle of good wine at davidos italian palace',\n",
              "  {'entities': [(20, 29, 'B-Price'),\n",
              "    (30, 36, 'B-Rating'),\n",
              "    (40, 44, 'B-Rating'),\n",
              "    (45, 49, 'B-Cuisine'),\n",
              "    (53, 60, 'B-Restaurant_Name'),\n",
              "    (61, 68, 'I-Restaurant_Name'),\n",
              "    (69, 75, 'I-Restaurant_Name')]}),\n",
              " ('about how much will it cost to eat at johns pizza cafe for dinner per person',\n",
              "  {'entities': [(23, 27, 'B-Price'),\n",
              "    (38, 43, 'B-Restaurant_Name'),\n",
              "    (44, 49, 'I-Restaurant_Name'),\n",
              "    (50, 54, 'I-Restaurant_Name'),\n",
              "    (59, 65, 'B-Hours'),\n",
              "    (66, 69, 'B-Price'),\n",
              "    (70, 76, 'I-Price')]}),\n",
              " ('adress of the nearest cracker barrel',\n",
              "  {'entities': [(14, 21, 'B-Location'),\n",
              "    (22, 29, 'B-Restaurant_Name'),\n",
              "    (30, 36, 'I-Restaurant_Name')]}),\n",
              " ('after hour dining',\n",
              "  {'entities': [(0, 5, 'B-Hours'), (6, 10, 'I-Hours'), (11, 17, 'I-Hours')]}),\n",
              " ('all i want is a bagel and coffee can you direct me',\n",
              "  {'entities': [(16, 21, 'B-Dish'), (22, 25, 'I-Dish'), (26, 32, 'I-Dish')]})]"
            ]
          },
          "metadata": {},
          "execution_count": 24
        }
      ]
    },
    {
      "cell_type": "markdown",
      "source": [
        "#### This function is borrwed from spacy's documentation. It converts above data form to .spacy format which the pipeline accepts"
      ],
      "metadata": {
        "id": "V0W-569KMqDq"
      }
    },
    {
      "cell_type": "code",
      "source": [
        "import pandas as pd\n",
        "from tqdm import tqdm\n",
        "import spacy\n",
        "from spacy.tokens import DocBin\n",
        "nlp = spacy.load(\"en_core_web_sm\") # load a pretrained spacy model\n",
        "db = DocBin() # create a DocBin object\n",
        "\n",
        "for text, annot in tqdm(train_data): # data in previous format\n",
        "    doc = nlp.make_doc(text) # create doc object from text\n",
        "    ents = []\n",
        "    for start, end, label in annot[\"entities\"]: # add character indexes\n",
        "        span = doc.char_span(start, end, label=label, alignment_mode=\"contract\")\n",
        "        if span is None:\n",
        "            print(\"Skipping entity\")\n",
        "        else:\n",
        "            ents.append(span)\n",
        "    doc.ents = ents # label the text with the ents\n",
        "    db.add(doc)\n",
        "\n",
        "db.to_disk(\"./train.spacy\") # save the docbin object\n",
        "\n",
        "db = DocBin()\n",
        "for text, annot in tqdm(test_data): # data in previous format\n",
        "    doc = nlp.make_doc(text) # create doc object from text\n",
        "    ents = []\n",
        "    for start, end, label in annot[\"entities\"]: # add character indexes\n",
        "        span = doc.char_span(start, end, label=label, alignment_mode=\"contract\")\n",
        "        if span is None:\n",
        "            print(\"Skipping entity\")\n",
        "        else:\n",
        "            ents.append(span)\n",
        "    doc.ents = ents # label the text with the ents\n",
        "    db.add(doc)\n",
        "\n",
        "db.to_disk(\"./valid.spacy\") # save the docbin object"
      ],
      "metadata": {
        "id": "xkobgzok3aFn",
        "colab": {
          "base_uri": "https://localhost:8080/"
        },
        "outputId": "cc1fcdfe-f66f-4e8d-81e2-b0d08c774bb3"
      },
      "execution_count": 11,
      "outputs": [
        {
          "output_type": "stream",
          "name": "stderr",
          "text": [
            "100%|██████████| 7573/7573 [00:01<00:00, 5859.04it/s]\n",
            "100%|██████████| 1517/1517 [00:00<00:00, 6243.39it/s]\n"
          ]
        }
      ]
    },
    {
      "cell_type": "markdown",
      "source": [
        "#### Installing spacy transformers"
      ],
      "metadata": {
        "id": "RoufNcebM-US"
      }
    },
    {
      "cell_type": "code",
      "source": [
        "!pip install spacy[transformers]"
      ],
      "metadata": {
        "id": "iGIMoedb_uPL"
      },
      "execution_count": null,
      "outputs": []
    },
    {
      "cell_type": "markdown",
      "source": [
        "#### Generating Configuration file for training"
      ],
      "metadata": {
        "id": "mPTujDe_NGpZ"
      }
    },
    {
      "cell_type": "code",
      "source": [
        "!python -m spacy init fill-config base_config.cfg config.cfg"
      ],
      "metadata": {
        "id": "AJ184-XbdwDv",
        "colab": {
          "base_uri": "https://localhost:8080/"
        },
        "outputId": "993afff8-b8bd-4a09-f4aa-2afa5b24b2e3"
      },
      "execution_count": 16,
      "outputs": [
        {
          "output_type": "stream",
          "name": "stdout",
          "text": [
            "\u001b[38;5;2m✔ Auto-filled config with all values\u001b[0m\n",
            "\u001b[38;5;2m✔ Saved config\u001b[0m\n",
            "config.cfg\n",
            "You can now add your data and train your pipeline:\n",
            "python -m spacy train config.cfg --paths.train ./train.spacy --paths.dev ./dev.spacy\n"
          ]
        }
      ]
    },
    {
      "cell_type": "markdown",
      "source": [
        "#### Model Training and evaluation"
      ],
      "metadata": {
        "id": "B3BaOCCmNMfv"
      }
    },
    {
      "cell_type": "code",
      "source": [
        "!python -m spacy train config.cfg --verbose --output ./ner_demo/training/ --paths.train train.spacy --paths.dev valid.spacy"
      ],
      "metadata": {
        "colab": {
          "base_uri": "https://localhost:8080/"
        },
        "id": "d2S8BDziBFwb",
        "outputId": "28e4d897-8186-4c7b-e81d-806124165c52"
      },
      "execution_count": 17,
      "outputs": [
        {
          "output_type": "stream",
          "name": "stdout",
          "text": [
            "[2022-08-28 10:43:29,947] [DEBUG] Config overrides from CLI: ['paths.train', 'paths.dev']\n",
            "\u001b[38;5;2m✔ Created output directory: ner_demo/training\u001b[0m\n",
            "\u001b[38;5;4mℹ Saving to output directory: ner_demo/training\u001b[0m\n",
            "\u001b[38;5;4mℹ Using CPU\u001b[0m\n",
            "\u001b[38;5;4mℹ To switch to GPU 0, use the option: --gpu-id 0\u001b[0m\n",
            "\u001b[1m\n",
            "=========================== Initializing pipeline ===========================\u001b[0m\n",
            "[2022-08-28 10:43:30,467] [INFO] Set up nlp object from config\n",
            "[2022-08-28 10:43:30,476] [DEBUG] Loading corpus from path: valid.spacy\n",
            "[2022-08-28 10:43:30,477] [DEBUG] Loading corpus from path: train.spacy\n",
            "[2022-08-28 10:43:30,477] [INFO] Pipeline: ['tok2vec', 'ner']\n",
            "[2022-08-28 10:43:30,481] [INFO] Created vocabulary\n",
            "[2022-08-28 10:43:30,482] [INFO] Finished initializing nlp object\n",
            "[2022-08-28 10:43:31,782] [DEBUG] [W033] Training a new parser or NER using a model with no lexeme normalization table. This may degrade the performance of the model to some degree. If this is intentional or the language you're using doesn't have a normalization table, please ignore this warning. If this is surprising, make sure you have the spacy-lookups-data package installed and load the table in your config. The languages with lexeme normalization tables are currently: cs, da, de, el, en, id, lb, mk, pt, ru, sr, ta, th\n",
            "\n",
            "Load the table in your config with:\n",
            "\n",
            "[initialize.lookups]\n",
            "@misc = \"spacy.LookupsDataLoader.v1\"\n",
            "lang = ${nlp.lang}\n",
            "tables = [\"lexeme_norm\"]\n",
            "\n",
            "[2022-08-28 10:43:32,454] [INFO] Initialized pipeline components: ['tok2vec', 'ner']\n",
            "\u001b[38;5;2m✔ Initialized pipeline\u001b[0m\n",
            "\u001b[1m\n",
            "============================= Training pipeline =============================\u001b[0m\n",
            "[2022-08-28 10:43:32,464] [DEBUG] Loading corpus from path: valid.spacy\n",
            "[2022-08-28 10:43:32,465] [DEBUG] Loading corpus from path: train.spacy\n",
            "\u001b[38;5;4mℹ Pipeline: ['tok2vec', 'ner']\u001b[0m\n",
            "\u001b[38;5;4mℹ Initial learn rate: 0.001\u001b[0m\n",
            "E    #       LOSS TOK2VEC  LOSS NER  ENTS_F  ENTS_P  ENTS_R  SCORE \n",
            "---  ------  ------------  --------  ------  ------  ------  ------\n",
            "  0       0          0.00     75.02    0.00    0.00    0.00    0.00\n",
            "  0     200        259.20   8464.43   60.60   62.24   59.05    0.61\n",
            "  0     400        516.55   6290.34   72.70   75.69   69.93    0.73\n",
            "  1     600        637.71   6031.25   76.86   78.94   74.88    0.77\n",
            "  1     800        806.25   6388.44   77.87   77.57   78.17    0.78\n",
            "  2    1000        950.93   6873.18   78.47   79.22   77.74    0.78\n",
            "  3    1200       1190.44   7398.69   78.91   78.44   79.38    0.79\n",
            "  4    1400       1445.83   7887.06   79.32   79.97   78.69    0.79\n",
            "  5    1600       1840.79   8274.16   79.11   79.67   78.56    0.79\n",
            "  6    1800       2384.49   9166.49   79.56   79.95   79.17    0.80\n",
            "  8    2000       2926.89   9592.69   79.26   80.55   78.01    0.79\n",
            " 11    2200       3645.76  10206.97   79.22   80.08   78.38    0.79\n",
            " 13    2400       4695.15  10756.35   78.81   79.57   78.06    0.79\n",
            " 16    2600       4968.59   9761.99   78.52   78.94   78.10    0.79\n",
            " 19    2800       4972.35   8935.44   78.93   80.48   77.43    0.79\n",
            " 22    3000       5135.75   8274.05   78.27   78.00   78.54    0.78\n",
            " 25    3200       5054.74   7660.31   78.52   78.42   78.61    0.79\n",
            " 27    3400       5138.91   7090.38   78.88   78.63   79.13    0.79\n",
            "\u001b[38;5;2m✔ Saved pipeline to output directory\u001b[0m\n",
            "ner_demo/training/model-last\n"
          ]
        }
      ]
    },
    {
      "cell_type": "markdown",
      "source": [
        "#### Prediction Function"
      ],
      "metadata": {
        "id": "FGLnZRRCNWiP"
      }
    },
    {
      "cell_type": "code",
      "source": [
        "import spacy.displacy\n",
        "def pred_fun():\n",
        "  pred = spacy.load(\"/content/ner_demo/training/model-best\")\n",
        "  sentence = input(\"Please enter the sentence here: \" )\n",
        "  result = pred(sentence)\n",
        "  spacy.displacy.render(result, jupyter=True, style=\"ent\")\n"
      ],
      "metadata": {
        "id": "r_z5uqyX_F3-"
      },
      "execution_count": 19,
      "outputs": []
    },
    {
      "cell_type": "markdown",
      "source": [
        "## Sample Prediction\n",
        "#### Unmarked words are of category \"O\""
      ],
      "metadata": {
        "id": "OMA3s_imNbmc"
      }
    },
    {
      "cell_type": "code",
      "source": [
        "pred_fun()"
      ],
      "metadata": {
        "colab": {
          "base_uri": "https://localhost:8080/",
          "height": 69
        },
        "id": "o-p7VSHRFhQC",
        "outputId": "b828dac3-3d02-45ab-f751-ab2337088c8f"
      },
      "execution_count": 21,
      "outputs": [
        {
          "name": "stdout",
          "output_type": "stream",
          "text": [
            "Please enter the sentence here: lets go to burger king and eat their spicy beef burger\n"
          ]
        },
        {
          "output_type": "display_data",
          "data": {
            "text/plain": [
              "<IPython.core.display.HTML object>"
            ],
            "text/html": [
              "<span class=\"tex2jax_ignore\"><div class=\"entities\" style=\"line-height: 2.5; direction: ltr\">lets go to \n",
              "<mark class=\"entity\" style=\"background: #ddd; padding: 0.45em 0.6em; margin: 0 0.25em; line-height: 1; border-radius: 0.35em;\">\n",
              "    burger\n",
              "    <span style=\"font-size: 0.8em; font-weight: bold; line-height: 1; border-radius: 0.35em; vertical-align: middle; margin-left: 0.5rem\">B-Restaurant_Name</span>\n",
              "</mark>\n",
              " \n",
              "<mark class=\"entity\" style=\"background: #ddd; padding: 0.45em 0.6em; margin: 0 0.25em; line-height: 1; border-radius: 0.35em;\">\n",
              "    king\n",
              "    <span style=\"font-size: 0.8em; font-weight: bold; line-height: 1; border-radius: 0.35em; vertical-align: middle; margin-left: 0.5rem\">I-Restaurant_Name</span>\n",
              "</mark>\n",
              " and \n",
              "<mark class=\"entity\" style=\"background: #ddd; padding: 0.45em 0.6em; margin: 0 0.25em; line-height: 1; border-radius: 0.35em;\">\n",
              "    eat\n",
              "    <span style=\"font-size: 0.8em; font-weight: bold; line-height: 1; border-radius: 0.35em; vertical-align: middle; margin-left: 0.5rem\">B-Amenity</span>\n",
              "</mark>\n",
              " their \n",
              "<mark class=\"entity\" style=\"background: #ddd; padding: 0.45em 0.6em; margin: 0 0.25em; line-height: 1; border-radius: 0.35em;\">\n",
              "    spicy\n",
              "    <span style=\"font-size: 0.8em; font-weight: bold; line-height: 1; border-radius: 0.35em; vertical-align: middle; margin-left: 0.5rem\">B-Dish</span>\n",
              "</mark>\n",
              " \n",
              "<mark class=\"entity\" style=\"background: #ddd; padding: 0.45em 0.6em; margin: 0 0.25em; line-height: 1; border-radius: 0.35em;\">\n",
              "    beef\n",
              "    <span style=\"font-size: 0.8em; font-weight: bold; line-height: 1; border-radius: 0.35em; vertical-align: middle; margin-left: 0.5rem\">I-Dish</span>\n",
              "</mark>\n",
              " \n",
              "<mark class=\"entity\" style=\"background: #ddd; padding: 0.45em 0.6em; margin: 0 0.25em; line-height: 1; border-radius: 0.35em;\">\n",
              "    burger\n",
              "    <span style=\"font-size: 0.8em; font-weight: bold; line-height: 1; border-radius: 0.35em; vertical-align: middle; margin-left: 0.5rem\">I-Dish</span>\n",
              "</mark>\n",
              "</div></span>"
            ]
          },
          "metadata": {}
        }
      ]
    },
    {
      "cell_type": "code",
      "source": [
        "!zip -r /content/ner_demo.zip /content/ner_demo"
      ],
      "metadata": {
        "id": "TIxNCigPG3ss"
      },
      "execution_count": null,
      "outputs": []
    },
    {
      "cell_type": "code",
      "source": [
        "from google.colab import files\n",
        "files.download(\"/content/ner_demo.zip\")"
      ],
      "metadata": {
        "colab": {
          "base_uri": "https://localhost:8080/",
          "height": 17
        },
        "id": "RqM7LF2sINUf",
        "outputId": "e3a37158-d180-489b-9906-0aa9c2a1960e"
      },
      "execution_count": 23,
      "outputs": [
        {
          "output_type": "display_data",
          "data": {
            "text/plain": [
              "<IPython.core.display.Javascript object>"
            ],
            "application/javascript": [
              "\n",
              "    async function download(id, filename, size) {\n",
              "      if (!google.colab.kernel.accessAllowed) {\n",
              "        return;\n",
              "      }\n",
              "      const div = document.createElement('div');\n",
              "      const label = document.createElement('label');\n",
              "      label.textContent = `Downloading \"${filename}\": `;\n",
              "      div.appendChild(label);\n",
              "      const progress = document.createElement('progress');\n",
              "      progress.max = size;\n",
              "      div.appendChild(progress);\n",
              "      document.body.appendChild(div);\n",
              "\n",
              "      const buffers = [];\n",
              "      let downloaded = 0;\n",
              "\n",
              "      const channel = await google.colab.kernel.comms.open(id);\n",
              "      // Send a message to notify the kernel that we're ready.\n",
              "      channel.send({})\n",
              "\n",
              "      for await (const message of channel.messages) {\n",
              "        // Send a message to notify the kernel that we're ready.\n",
              "        channel.send({})\n",
              "        if (message.buffers) {\n",
              "          for (const buffer of message.buffers) {\n",
              "            buffers.push(buffer);\n",
              "            downloaded += buffer.byteLength;\n",
              "            progress.value = downloaded;\n",
              "          }\n",
              "        }\n",
              "      }\n",
              "      const blob = new Blob(buffers, {type: 'application/binary'});\n",
              "      const a = document.createElement('a');\n",
              "      a.href = window.URL.createObjectURL(blob);\n",
              "      a.download = filename;\n",
              "      div.appendChild(a);\n",
              "      a.click();\n",
              "      div.remove();\n",
              "    }\n",
              "  "
            ]
          },
          "metadata": {}
        },
        {
          "output_type": "display_data",
          "data": {
            "text/plain": [
              "<IPython.core.display.Javascript object>"
            ],
            "application/javascript": [
              "download(\"download_d9a14bda-92e7-43bb-86b5-5b87bd4b2613\", \"ner_demo.zip\", 8524498)"
            ]
          },
          "metadata": {}
        }
      ]
    },
    {
      "cell_type": "code",
      "source": [],
      "metadata": {
        "id": "ecaMVtAaIY8o"
      },
      "execution_count": null,
      "outputs": []
    }
  ]
}